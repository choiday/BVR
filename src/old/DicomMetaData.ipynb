{
 "cells": [
  {
   "cell_type": "code",
   "execution_count": 1,
   "metadata": {
    "collapsed": true
   },
   "outputs": [],
   "source": [
    "import dicom\n",
    "import SimpleITK as sitk\n",
    "import numpy as np\n",
    "from tkinter import messagebox\n",
    "\n",
    "'''\n",
    "from tkinter.filedialog import askopenfilenames\n",
    "Files=askopenfilenames(initialdir=\"/home/rtv/workspace/BVR/resource/Data/\")\n",
    "while len(Files) is not 2:\n",
    "\tmessagebox.showerror(title='error',message='Two images are necessary')\n",
    "\tFiles=askopenfilenames(initialdir=\"/home/rtv/workspace/BVR/resource/Data/\")\n",
    "'''\n",
    "\n",
    "from tkinter.filedialog import askdirectory\n",
    "import glob\n",
    "dcmdir=askdirectory(initialdir='/home/rtv/workspace/BVR/resource/Data/')\n",
    "dcms=sorted(glob.glob(dcmdir+\"/I00*\"))\n",
    "while len(dcms) is 0:\n",
    "\tmessagebox.showerror(title='error',message='no DICOM FILE')\n",
    "\tdcmdir=askdirectory(initialdir='/home/rtv/workspace/BVR/resource/Data/')\n",
    "\tdcms=sorted(glob.glob(dcmdir+\"/I00*\"))\n",
    "reader=sitk.ImageFileReader()"
   ]
  },
  {
   "cell_type": "code",
   "execution_count": 2,
   "metadata": {},
   "outputs": [
    {
     "name": "stdout",
     "output_type": "stream",
     "text": [
      "1.5818077 \n",
      "1.4426666 \n",
      "1.5831199 \n",
      "1.4173334 \n",
      "1.5036472 \n",
      "None\n",
      "1.536061\n",
      "1.3012372 \n",
      "1.4351871 \n",
      "1.4055934 \n",
      "1.4273566 \n",
      "1.3662896 \n"
     ]
    }
   ],
   "source": [
    "#Metacode='0028|0008' #No. of Frames\n",
    "#Metacode='0008|0070' #Manufacturer\n",
    "#Metacode='0018|1510' #primary angle\n",
    "#Metacode2='0018|1511' #Secondary angle\n",
    "# Metacode='0018|1164' #pixel spacing\n",
    "#Metacode='0018|1110' #SID\n",
    "# Metacode='0018|1111' #SOD\n",
    "Metacode='0018|1114' #magnification\n",
    "#Metacode='0020|0030' #Image Position\n",
    "#\n",
    "for i in range(len(dcms)):\n",
    "    #ds=dicom.read_file(dcms[0])\n",
    "    reader.SetFileName(dcms[i])\n",
    "    ds=reader.Execute()\n",
    "    if ds.HasMetaDataKey(Metacode):\n",
    "        Mdata=ds.GetMetaData(Metacode)\n",
    "        # Mdata2=ds.GetMetaData(Metacode2)\n",
    "        print(Mdata)\n",
    "        # print(Mdata+', '+Mdata2)\n",
    "    else:\n",
    "        print('None')"
   ]
  },
  {
   "cell_type": "code",
   "execution_count": null,
   "metadata": {
    "collapsed": true
   },
   "outputs": [],
   "source": []
  }
 ],
 "metadata": {
  "kernelspec": {
   "display_name": "Python 3",
   "language": "python",
   "name": "python3"
  },
  "language_info": {
   "codemirror_mode": {
    "name": "ipython",
    "version": 3
   },
   "file_extension": ".py",
   "mimetype": "text/x-python",
   "name": "python",
   "nbconvert_exporter": "python",
   "pygments_lexer": "ipython3",
   "version": "3.6.2"
  }
 },
 "nbformat": 4,
 "nbformat_minor": 2
}
