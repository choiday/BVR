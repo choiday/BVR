{
 "cells": [
  {
   "cell_type": "code",
   "execution_count": 1,
   "metadata": {
    "collapsed": true
   },
   "outputs": [],
   "source": [
    "import tkinter as tk\n",
    "from tkinter import messagebox\n",
    "from tkinter.filedialog import askopenfilenames"
   ]
  },
  {
   "cell_type": "code",
   "execution_count": 2,
   "metadata": {
    "collapsed": true
   },
   "outputs": [],
   "source": [
    "class point():\n",
    "    __count=0\n",
    "    __branch_count=0\n",
    "    __curved_count=0\n",
    "    def __init__(self,coord,type):\n",
    "        point.__count+=1\n",
    "        self.coord=coord\n",
    "        self.type=type\n",
    "        if type=='b':\n",
    "            point.__branch_count+=1\n",
    "        elif type=='c':\n",
    "            point.__curved_count+=1\n",
    "\n",
    "    def __repr__(self):\n",
    "        return \"node type : \" +self.type+\", position : \"+str(self.coord)\n",
    "\n",
    "    @classmethod\n",
    "    def total(cls):\n",
    "        return cls.__count\n",
    "    @classmethod\n",
    "    def branch(cls):\n",
    "        return cls.__branch_count\n",
    "    @classmethod\n",
    "    def curved(cls):\n",
    "        return cls.__curved_count"
   ]
  },
  {
   "cell_type": "code",
   "execution_count": 3,
   "metadata": {
    "collapsed": true
   },
   "outputs": [],
   "source": [
    "class vessel():\n",
    "    __count=0\n",
    "    vs_array=[]\n",
    "    def __init__(self,parent):\n",
    "        vessel.vs_array.append(self)\n",
    "        self.order=vessel.__count\n",
    "        vessel.__count+=1\n",
    "        self.points=[]\n",
    "        self.parent_vs=[]\n",
    "        self.child_vs=[]\n",
    "        if parent==None:\n",
    "            self.parent_vs=None\n",
    "        else:\n",
    "            self.parent_vs.append(parent.order)\n",
    "            parent.child_vs.append(self.order)\n",
    "    \n",
    "    \n",
    "    #def __repr__(self):\n",
    "\n",
    "    def info(self):\n",
    "        print('vessel no :'+str(self.order)+ \\\n",
    "    ' \\nParent vessel : ' + str(self.parent_vs) + \\\n",
    "    '\\nChild vessel :' + str(self.child_vs))\n",
    "\n",
    "    @classmethod\n",
    "    def total(cls):\n",
    "        return cls.__count"
   ]
  },
  {
   "cell_type": "code",
   "execution_count": 4,
   "metadata": {
    "collapsed": true
   },
   "outputs": [],
   "source": [
    "class manual_points(tk.Tk):\n",
    "\n",
    "    def __init__(self, *args, **kwargs):\n",
    "        tk.Tk.__init__(self, *args, **kwargs)\n",
    "        #self.canvas1=PeeredCanvas(self,width=512,height=512,border=1,relief=\"sunken\")\n",
    "        #self.canvas2=PeeredCanvas(self,width=512,height=512,border=1,relief=\"sunken\")\n",
    "        self.canvas1=tk.Canvas(self,width=512,height=512,border=1,relief=\"sunken\")\n",
    "        self.canvas2=tk.Canvas(self,width=512,height=512,border=1,relief=\"sunken\")\n",
    "        #self.canvas1.add_peer(self.canvas2)\n",
    "        toolbar=tk.Frame(self)\n",
    "        button1=tk.Button(self, text=\"Refresh\",command=self.refresh)\n",
    "        button1.pack(in_=toolbar,side=\"left\")\n",
    "        toolbar.pack(side=\"top\",fill=\"x\")\n",
    "        self.canvas1.pack(side=\"left\",fill=\"both\",expand=True)\n",
    "        self.canvas2.pack(side=\"left\",fill=\"both\",expand=True)\n",
    "        self.points1 = []\n",
    "        self.points2 = []\n",
    "\n",
    "        def point(event,cv,pnts):\n",
    "            pnts.append([event.x, event.y])\n",
    "            if len(pnts)==1:\n",
    "                cv.create_oval(pnts[0][0]-1,pnts[0][1]-1,pnts[0][0]+1,pnts[0][1],fill=\"black\",tags=\"thepoint\")\n",
    "            elif len(pnts)>1:\n",
    "                cv.create_line(pnts,fill=\"red\",width=2,tags=\"theline\")\n",
    "                cv.create_oval(pnts[0][0]-1,pnts[0][1]-1,pnts[0][0]+1,pnts[0][1],fill=\"black\",tags=\"thepoint\")\n",
    "            \n",
    "        def point_remove(event,cv,pnts):\n",
    "            if len(pnts) is not 0:\n",
    "                pnts.remove(pnts[-1])\n",
    "            cv.delete(\"theline\",\"thepoint\")\n",
    "            if len(pnts)==1:\n",
    "                cv.create_oval(pnts[0][0]-1,pnts[0][1]-1,pnts[0][0]+1,pnts[0][1],fill=\"black\",tags=\"thepoint\")\n",
    "            elif len(pnts)>1:\n",
    "                cv.create_line(pnts,fill=\"red\",width=2,tags=\"theline\")\n",
    "                cv.create_oval(pnts[0][0]-1,pnts[0][1]-1,pnts[0][0]+1,pnts[0][1],fill=\"black\",tags=\"thepoint\")\n",
    "            \n",
    "        self.canvas1.bind(\"<Button-1>\",lambda event, cv=self.canvas1, pnts=self.points1 :point(event,cv,pnts))\n",
    "        self.canvas2.bind(\"<Button-1>\",lambda event, cv=self.canvas2, pnts=self.points2 :point(event,cv,pnts))\n",
    "        self.canvas1.bind(\"<Button-3>\",lambda event, cv=self.canvas1, pnts=self.points1 :point_remove(event,cv,pnts))\n",
    "        self.canvas2.bind(\"<Button-3>\",lambda event, cv=self.canvas2, pnts=self.points2 :point_remove(event,cv,pnts))\n",
    "\n",
    "    def refresh(self, count=100):\n",
    "        '''Redraw 'count' random circles'''\n",
    "        self.canvas1.delete(\"all\")\n",
    "        self.Files=askopenfilenames()\n",
    "        while len(self.Files) is not 2:\n",
    "            messagebox.showerror(title='error',message='Two images are necessary')\n",
    "            self.Files=askopenfilenames()\n",
    "        self.img0=tk.PhotoImage(file=self.Files[0])\n",
    "        self.img1=tk.PhotoImage(file=self.Files[1])\n",
    "        width=self.img0.width()\n",
    "        height=self.img0.height()\n",
    "        self.canvas1.create_image(0,0,image=self.img0,anchor=\"nw\")\n",
    "        self.canvas2.create_image(0,0,image=self.img1,anchor=\"nw\")\n",
    "\n",
    "        #print(self.event.x,',',self.event.y)\n",
    "        #self.canvas1.create_oval(event.x-1, event.y-1, event.x+1, event.y+1, fill=\"black\")\n",
    "        \n",
    "        #self.points.append(event.x)\n",
    "        #self.points.append(event.y)\n",
    "        #return self.points"
   ]
  },
  {
   "cell_type": "code",
   "execution_count": 5,
   "metadata": {
    "collapsed": true
   },
   "outputs": [],
   "source": [
    "class PeeredCanvas(tk.Canvas):\n",
    "    '''A class that duplicates all objects on one or more peer canvases'''\n",
    "    def __init__(self, *args, **kwargs):\n",
    "        self.peers = []\n",
    "        tk.Canvas.__init__(self, *args, **kwargs)\n",
    "\n",
    "    def add_peer(self, peer):\n",
    "        if self.peers is None:\n",
    "            self.peers = []\n",
    "        self.peers.append(peer)\n",
    "\n",
    "    def move(self, *args, **kwargs):\n",
    "        tk.Canvas.move(self, *args, **kwargs)\n",
    "        for peer in self.peers:\n",
    "            peer.move(*args, **kwargs)\n",
    "\n",
    "    def itemconfigure(self, *args, **kwargs):\n",
    "        tk.Canvas.itemconfigure(self, *args, **kwargs)\n",
    "        for peer in self.peers:\n",
    "            peer.itemconfigure(*args, **kwargs)\n",
    "\n",
    "    def delete(self, *args, **kwargs):\n",
    "        tk.Canvas.delete(self, *args)\n",
    "        for peer in self.peers:\n",
    "            peer.delete(*args)\n",
    "\n",
    "    def create_oval(self, *args, **kwargs):\n",
    "        tk.Canvas.create_oval(self, *args, **kwargs)\n",
    "        for peer in self.peers:\n",
    "            peer.create_oval(*args, **kwargs)"
   ]
  },
  {
   "cell_type": "code",
   "execution_count": 6,
   "metadata": {
    "collapsed": true
   },
   "outputs": [],
   "source": [
    "def SaveVessel():\n",
    "    pass"
   ]
  },
  {
   "cell_type": "code",
   "execution_count": 7,
   "metadata": {},
   "outputs": [
    {
     "name": "stderr",
     "output_type": "stream",
     "text": [
      "Exception in Tkinter callback\n",
      "Traceback (most recent call last):\n",
      "  File \"/home/rtv/anaconda3/lib/python3.6/tkinter/__init__.py\", line 1699, in __call__\n",
      "    return self.func(*args)\n",
      "  File \"<ipython-input-4-3a02917fcdbb>\", line 49, in refresh\n",
      "    self.img0=tk.PhotoImage(file=self.Files[0])\n",
      "  File \"/home/rtv/anaconda3/lib/python3.6/tkinter/__init__.py\", line 3539, in __init__\n",
      "    Image.__init__(self, 'photo', name, cnf, master, **kw)\n",
      "  File \"/home/rtv/anaconda3/lib/python3.6/tkinter/__init__.py\", line 3495, in __init__\n",
      "    self.tk.call(('image', 'create', imgtype, name,) + options)\n",
      "_tkinter.TclError: couldn't recognize data in image file \"/home/rtv/workspace/BVR/resource/img1.jpg\"\n"
     ]
    }
   ],
   "source": [
    "app = manual_points()\n",
    "app.mainloop()"
   ]
  },
  {
   "cell_type": "code",
   "execution_count": null,
   "metadata": {
    "collapsed": true
   },
   "outputs": [],
   "source": []
  }
 ],
 "metadata": {
  "kernelspec": {
   "display_name": "Python 3",
   "language": "python",
   "name": "python3"
  },
  "language_info": {
   "codemirror_mode": {
    "name": "ipython",
    "version": 3
   },
   "file_extension": ".py",
   "mimetype": "text/x-python",
   "name": "python",
   "nbconvert_exporter": "python",
   "pygments_lexer": "ipython3",
   "version": "3.6.2"
  }
 },
 "nbformat": 4,
 "nbformat_minor": 2
}
