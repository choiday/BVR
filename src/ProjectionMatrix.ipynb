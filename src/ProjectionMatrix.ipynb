{
 "cells": [
  {
   "cell_type": "code",
   "execution_count": 83,
   "metadata": {},
   "outputs": [
    {
     "name": "stdout",
     "output_type": "stream",
     "text": [
      "Image (0x37430c0)\n",
      "  RTTI typeinfo:   itk::Image<unsigned char, 3u>\n",
      "  Reference Count: 1\n",
      "  Modified Time: 6605\n",
      "  Debug: Off\n",
      "  Object Name: \n",
      "  Observers: \n",
      "    none\n",
      "  Source: (none)\n",
      "  Source output name: (none)\n",
      "  Release Data: Off\n",
      "  Data Released: False\n",
      "  Global Release Data: Off\n",
      "  PipelineMTime: 6590\n",
      "  UpdateMTime: 6604\n",
      "  RealTimeStamp: 0 seconds \n",
      "  LargestPossibleRegion: \n",
      "    Dimension: 3\n",
      "    Index: [0, 0, 0]\n",
      "    Size: [512, 512, 84]\n",
      "  BufferedRegion: \n",
      "    Dimension: 3\n",
      "    Index: [0, 0, 0]\n",
      "    Size: [512, 512, 84]\n",
      "  RequestedRegion: \n",
      "    Dimension: 3\n",
      "    Index: [0, 0, 0]\n",
      "    Size: [512, 512, 84]\n",
      "  Spacing: [0.278875, 0.278875, 66.6667]\n",
      "  Origin: [0, 0, 0]\n",
      "  Direction: \n",
      "1 0 0\n",
      "0 1 0\n",
      "0 0 1\n",
      "\n",
      "  IndexToPointMatrix: \n",
      "0.278875 0 0\n",
      "0 0.278875 0\n",
      "0 0 66.6667\n",
      "\n",
      "  PointToIndexMatrix: \n",
      "3.58584 0 0\n",
      "0 3.58584 0\n",
      "0 0 0.015\n",
      "\n",
      "  Inverse Direction: \n",
      "1 0 0\n",
      "0 1 0\n",
      "0 0 1\n",
      "\n",
      "  PixelContainer: \n",
      "    ImportImageContainer (0x3746a00)\n",
      "      RTTI typeinfo:   itk::ImportImageContainer<unsigned long, unsigned char>\n",
      "      Reference Count: 1\n",
      "      Modified Time: 6601\n",
      "      Debug: Off\n",
      "      Object Name: \n",
      "      Observers: \n",
      "        none\n",
      "      Pointer: 0x8c5a100\n",
      "      Container manages memory: true\n",
      "      Size: 22020096\n",
      "      Capacity: 22020096\n",
      "\n"
     ]
    }
   ],
   "source": [
    "import SimpleITK as sitk\n",
    "import numpy as np\n",
    "from tkinter.filedialog import askopenfilenames\n",
    "import cv2\n",
    "\n",
    "\n",
    "filepath1='/home/rtv/workspace/BVR/resource/Data/P2PGS/DCM/I0000004'\n",
    "filepath2='/home/rtv/workspace/BVR/resource/Data/P2PGS/DCM/I0000005'\n",
    "\n",
    "imgno=48\n",
    "\n",
    "reader=sitk.ImageFileReader()\n",
    "\n",
    "reader.SetFileName(filepath1)\n",
    "Data1=reader.Execute()\n",
    "\n",
    "reader.SetFileName(filepath2)\n",
    "Data2=reader.Execute()\n",
    "\n",
    "Data1.\n",
    "\n",
    "\n",
    "# if Data1.HasMetaDataKey('0018|1164') is not True:\n",
    "#     Data2.SetMetaData('0018|1164',Data1.GetMetaData('0018|1164'))\n",
    "# if Data2.HasMetaDataKey('0018|1164') is not True:\n",
    "#     Data1.SetMetaData('0018|1164',Data2.GetMetaData('0018|1164'))"
   ]
  },
  {
   "cell_type": "code",
   "execution_count": 5,
   "metadata": {
    "collapsed": true
   },
   "outputs": [],
   "source": [
    "DEGTORAD = np.pi / 180.0\n",
    "\n",
    "def Initial_transform_Matrix(Data):\n",
    "    if type(Data) is sitk.SimpleITK.Image:\n",
    "        DicomData=Data\n",
    "    elif type(Data) is str:\n",
    "        reader=sitk.ImageFileReader()\n",
    "        reader.SetFileName(Data)\n",
    "        DicomData=reader.Execute()\n",
    "\n",
    "    if DicomData.HasMetaDataKey('0008|0070') is not True:\n",
    "        print('not DICOM image, '+type(DicomData))\n",
    "    elif DicomData.GetMetaData('0008|0070')!='Siemens ':\n",
    "        print('not Siemens, but '+Data1.GetMetaData('0008|0070'))\n",
    "    else:\n",
    "        # print('return Transform Matrix')\n",
    "        SID=float(DicomData.GetMetaData('0018|1110'))\n",
    "        SOD=float(DicomData.GetMetaData('0018|1111'))\n",
    "        # mag=float(DicomData.GetMetaData('0018|1114'))\n",
    "        angle1=float(DicomData.GetMetaData('0018|1510'))*DEGTORAD\n",
    "        angle2=float(DicomData.GetMetaData('0018|1511'))*DEGTORAD\n",
    "        skew=0\n",
    "\n",
    "        ''' if DicomData.HasMetaDataKey('0018|1164') is not True:\n",
    "            pixel_spacing=([0.278875,  0.278875])\n",
    "            \n",
    "        else:\n",
    "            pixel_spacing=np.array(DicomData.GetMetaData('0018|1164').split('\\\\')).astype(float) '''\n",
    "        pixel_spacing=np.array(DicomData.GetMetaData('0018|1164').split('\\\\')).astype(float)\n",
    "        roty=np.array([[np.cos(angle1),0.0,np.sin(angle1)],[0.0,1,0.0],[-np.sin(angle1),0.0,-np.cos(angle1)]])\n",
    "        rotx=np.array([[1.0,0.0,0.0],[0.0,np.cos(angle2),-np.sin(angle2)],[0.0,np.sin(angle2),np.cos(angle2)]])\n",
    "\n",
    "        rot=np.matmul(rotx,roty)\n",
    "\n",
    "        rot=np.vstack((rot,[0.0,0.0,0.0]))\n",
    "        # print(rot)\n",
    "\n",
    "        # K=np.array([[mag/(pixel_spacing[0]),mag/(pixel_spacing[1])*skew,0],[0,mag/(pixel_spacing[1]),0],[0,0,1]])\n",
    "        K=np.array([[SID/(pixel_spacing[0]),SID/(pixel_spacing[1])*skew,256,SOD*256],[0,SID/(pixel_spacing[1]),256,SOD*256],[0,0,1,SOD]])\n",
    "        # tls=np.zeros([3,1])\n",
    "        tls=np.array([[0.0],[0.0],[0.0],[1.0]])\n",
    "        print('angle is '+str(angle1/DEGTORAD)+','+str(angle2/DEGTORAD))\n",
    "\n",
    "        P=np.matmul(K,np.concatenate((rot,tls),axis=1))\n",
    "        return P, K, rot, tls"
   ]
  },
  {
   "cell_type": "code",
   "execution_count": 6,
   "metadata": {},
   "outputs": [
    {
     "name": "stdout",
     "output_type": "stream",
     "text": [
      "angle is 90.1,-0.1\n",
      "[[ -2.62651964e+02  -4.46804062e-01   3.81218461e+03   1.91999996e+05]\n",
      " [ -2.62651954e+02   3.81129100e+03   4.58414604e-01   1.91999996e+05]\n",
      " [ -9.99996954e-01  -1.74532837e-03   1.74532571e-03   7.49999983e+02]] [[ -1.74532837e-03   0.00000000e+00   9.99998477e-01]\n",
      " [ -1.74532571e-03   9.99998477e-01   3.04617110e-06]\n",
      " [ -9.99996954e-01  -1.74532837e-03   1.74532571e-03]\n",
      " [  0.00000000e+00   0.00000000e+00   0.00000000e+00]]\n",
      "angle is -40.6,22.3\n",
      "[[  3.16263597e+03   9.71407768e+01  -2.75843060e+03   1.88129236e+05]\n",
      " [ -8.24325250e+02   3.76314432e+03   9.61756772e+02   1.88129236e+05]\n",
      " [  6.02102630e-01   3.79456160e-01  -7.02485192e-01   7.34879827e+02]]\n"
     ]
    }
   ],
   "source": [
    "# [P1 , K1, rot1, tls1] =Initial_transform_Matrix(Data1)\n",
    "[P1 , K1, rot1, tls1] =Initial_transform_Matrix(filepath1)\n",
    "print(P1,rot1)\n",
    "\n",
    "# [P2 , K2, rot2, tls2] =Initial_transform_Matrix(Data2)\n",
    "[P2 , K2, rot2, tls2] =Initial_transform_Matrix(filepath2)\n",
    "print(P2)"
   ]
  },
  {
   "cell_type": "code",
   "execution_count": 72,
   "metadata": {
    "collapsed": true
   },
   "outputs": [],
   "source": [
    "def global_line_from_image_point(point,Data):\n",
    "    \n",
    "    [P, K, rot, tls]=Initial_transform_Matrix(Data)\n",
    "    [u,v]=point\n",
    "    coef1=np.array([[u/K[0][0], v/K[1][1], 1.0]])\n",
    "    coef2=K[2][3]*np.array([[u/K[0][0], v/K[1][1], 0.0]])\n",
    "#     print(coef2)\n",
    "    coef1_global=np.matmul(np.linalg.inv(rot[0:3][:]),coef1.T)\n",
    "    coef2_global=np.matmul(np.linalg.inv(rot[0:3][:]),(coef2.T-tls[0:3]))\n",
    "#     print((coef2.T-tls[0:3]))\n",
    "    \n",
    "    return coef1_global, coef2_global\n",
    "    "
   ]
  },
  {
   "cell_type": "code",
   "execution_count": 77,
   "metadata": {
    "collapsed": true
   },
   "outputs": [],
   "source": [
    "def projected_epipolar_line(point,Data_from,Data_to):\n",
    "    [coef1_global, coef2_global]=global_line_from_image_point(point,Data_from)\n",
    "    [P, K, rot, tls]=Initial_transform_Matrix(Data_to)\n",
    "    coef1=np.matmul(rot[0:3][:],coef1_global)\n",
    "    coef2=np.matmul(rot[0:3][:],coef2_global)+tls[0:3]\n",
    "    coef1=np.vstack([coef1,1])\n",
    "    coef2=np.vstack([coef2,1])\n",
    "    print(coef1_global)\n",
    "    pixel1=np.matmul(P,coef2)\n",
    "    pixel1/=pixel1[2]\n",
    "    pixel2=np.matmul(P,coef1+coef2)\n",
    "    pixel2/=pixel2[2]\n",
    "    coef_img=np.array([pixel2[1]-pixel1[1], pixel1[0]-pixel2[0], pixel2[0]*pixel1[1]-pixel1[0]*pixel2[1]])\n",
    "    \n",
    "    return coef_img\n",
    "    "
   ]
  },
  {
   "cell_type": "code",
   "execution_count": 7,
   "metadata": {},
   "outputs": [
    {
     "name": "stdout",
     "output_type": "stream",
     "text": [
      "[ 254.97650134  254.9765029     1.        ]\n",
      "[ 256.          764.35001716    1.        ]\n",
      "[ 764.11347566  256.0015478     1.        ]\n",
      "[ 634.38450424  132.93677281    1.        ]\n",
      "[ 256.          730.36372341    1.        ]\n",
      "[-131.97365684  427.76334732    1.        ]\n"
     ]
    }
   ],
   "source": [
    "print(np.matmul(P1,[100,0,0,1])/np.matmul(P1[2][:],[100,0,0,1]))\n",
    "print(np.matmul(P1,[0,100,0,1])/np.matmul(P1[2][:],[0,100,0,1]))\n",
    "print(np.matmul(P1,[0,0,100,1])/np.matmul(P1[2][:],[0,0,100,1]))\n",
    "print(np.matmul(P2,[100,0,0,1])/np.matmul(P2[2][:],[100,0,0,1]))\n",
    "print(np.matmul(P2,[0,100,0,1])/np.matmul(P2[2][:],[0,100,0,1]))\n",
    "print(np.matmul(P2,[0,0,100,1])/np.matmul(P2[2][:],[0,0,100,1]))"
   ]
  },
  {
   "cell_type": "code",
   "execution_count": 78,
   "metadata": {},
   "outputs": [
    {
     "name": "stdout",
     "output_type": "stream",
     "text": [
      "angle is 90.1,-0.1\n",
      "angle is -40.6,22.3\n",
      "[[-1.00004883]\n",
      " [ 0.05072402]\n",
      " [ 0.02448934]]\n",
      "[[ -1.11846611e+02]\n",
      " [ -2.72201001e+01]\n",
      " [  3.55252059e+04]]\n"
     ]
    }
   ],
   "source": [
    "point=[100,200]\n",
    "[u,v]=point\n",
    "# print(rot1)\n",
    "# [P, K, rot, tls]=Initial_transform_Matrix(filepath1)\n",
    "# [coef1, coef2]=global_line_from_image_point(point,filepath1)\n",
    "# pixel1=np.matmul(P,coef2)\n",
    "# pixel1/=pixel1[2]\n",
    "# pixel2=np.matmul(P,coef1+coef2)\n",
    "# pixel2/=pixel2[2]\n",
    "# coef_img=np.array([[pixel2[1]-pixel1[1], pixel1[0]-pixel2[0], pixel2[0]*pixel1[1]-pixel1[0]*pixel2[1]]])\n",
    "coef_img=projected_epipolar_line(point,filepath1,filepath2)\n",
    "    \n",
    "print(coef_img)"
   ]
  },
  {
   "cell_type": "code",
   "execution_count": 64,
   "metadata": {},
   "outputs": [
    {
     "name": "stdout",
     "output_type": "stream",
     "text": [
      "[[ -3.43412455e-02]\n",
      " [  3.93520088e+01]\n",
      " [  1.96760044e+01]\n",
      " [  1.00000000e+00]]\n"
     ]
    }
   ],
   "source": [
    "print(np.vstack([coef2,1]))"
   ]
  },
  {
   "cell_type": "code",
   "execution_count": null,
   "metadata": {
    "collapsed": true
   },
   "outputs": [],
   "source": []
  }
 ],
 "metadata": {
  "kernelspec": {
   "display_name": "Python 3",
   "language": "python",
   "name": "python3"
  },
  "language_info": {
   "codemirror_mode": {
    "name": "ipython",
    "version": 3
   },
   "file_extension": ".py",
   "mimetype": "text/x-python",
   "name": "python",
   "nbconvert_exporter": "python",
   "pygments_lexer": "ipython3",
   "version": "3.6.2"
  }
 },
 "nbformat": 4,
 "nbformat_minor": 2
}
